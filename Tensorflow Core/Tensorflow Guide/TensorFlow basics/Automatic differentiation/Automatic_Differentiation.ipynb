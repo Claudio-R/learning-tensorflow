{
 "cells": [
  {
   "attachments": {},
   "cell_type": "markdown",
   "metadata": {},
   "source": [
    "# Introduction to gradients and automatic differentiation\n",
    "\n",
    "[Automatic differentiation](https://en.wikipedia.org/wiki/Automatic_differentiation) is useful for implementing machine learning algorithms such as [backpropagation](https://en.wikipedia.org/wiki/Backpropagation) for training neural networks.\n",
    "\n",
    "In this guide, you will explore ways to compute gradients with TensorFlow, especially in eager execution."
   ]
  },
  {
   "attachments": {},
   "cell_type": "markdown",
   "metadata": {},
   "source": [
    "## Setup"
   ]
  },
  {
   "cell_type": "code",
   "execution_count": 2,
   "metadata": {},
   "outputs": [
    {
     "name": "stderr",
     "output_type": "stream",
     "text": [
      "2023-03-03 11:01:35.633187: I tensorflow/core/platform/cpu_feature_guard.cc:193] This TensorFlow binary is optimized with oneAPI Deep Neural Network Library (oneDNN) to use the following CPU instructions in performance-critical operations:  AVX512_VNNI\n",
      "To enable them in other operations, rebuild TensorFlow with the appropriate compiler flags.\n"
     ]
    }
   ],
   "source": [
    "import numpy as np\n",
    "import matplotlib.pyplot as plt\n",
    "\n",
    "import tensorflow as tf"
   ]
  },
  {
   "attachments": {},
   "cell_type": "markdown",
   "metadata": {},
   "source": [
    "## Computing Gradients\n",
    "\n",
    "To differentiate automatically, TensorFlow needs to keep track of operations that are executed in order to compute the final result. This is done by using a [tape](https://www.tensorflow.org/api_docs/python/tf/Tape).\n",
    "To differentiate automatically, TensorFlow needs to remember what operations happen in what order during the forward pass. Then, during the backward pass, TensorFlow traverses this list of operations in reverse order to compute gradients."
   ]
  },
  {
   "attachments": {},
   "cell_type": "markdown",
   "metadata": {},
   "source": [
    "## Gradient tapes\n",
    "\n",
    "TensorFlow provides the `tf.GradientTape` API for automatic differentiation - that is, computing the gradient of a computation with respect to some inputs, usually `tf.Variable`s. TensorFlow \"records\" relevant operations executed inside the context of a `tf.GradientTape` onto a \"tape\". TensorFlow then uses that tape to compute the gradients of a \"recorded\" computation using reverse mode differentiation.\n",
    "\n",
    "A `tf.GradientTape` can only compute one gradient; subsequent calls throw a runtime error.\n",
    "It works like a [context manager](https://en.wikipedia.org/wiki/Context_manager) and should be used to compute gradients in a `tf.function` or in eager execution.\n",
    "It is also possible to compute nested gradients - that is, to compute the gradient of a function that itself computes a gradient."
   ]
  },
  {
   "cell_type": "code",
   "execution_count": 3,
   "metadata": {},
   "outputs": [
    {
     "name": "stderr",
     "output_type": "stream",
     "text": [
      "2023-03-03 11:01:38.795766: I tensorflow/core/platform/cpu_feature_guard.cc:193] This TensorFlow binary is optimized with oneAPI Deep Neural Network Library (oneDNN) to use the following CPU instructions in performance-critical operations:  AVX512_VNNI\n",
      "To enable them in other operations, rebuild TensorFlow with the appropriate compiler flags.\n",
      "2023-03-03 11:01:38.797309: I tensorflow/core/common_runtime/process_util.cc:146] Creating new thread pool with default inter op setting: \n"
     ]
    }
   ],
   "source": [
    "x = tf.Variable(3.0)\n",
    "\n",
    "with tf.GradientTape() as tape:\n",
    "    y = x**2"
   ]
  },
  {
   "attachments": {},
   "cell_type": "markdown",
   "metadata": {},
   "source": [
    "One thing to keep in mind is that the resources held by a GradientTape are released as soon as `GradientTape.gradient()` method is called. For long-running computations, you can compute the gradient over multiple calls to `gradient()` - for example, to do gradient descent by steps.\n",
    "\n",
    "Once you've recorded some operations, use `GradientTape.gradient()` to compute the gradient of a \"recorded\" computation with respect to some inputs. By default, `GradientTape.gradient()` will compute the gradient of the computation with respect to all `tf.Variable`s that were used to compute the result. If you want to compute the gradient with respect to some other `tf.Tensor`s, you can pass the `sources` argument to `GradientTape.gradient()`."
   ]
  },
  {
   "cell_type": "code",
   "execution_count": 4,
   "metadata": {},
   "outputs": [
    {
     "data": {
      "text/plain": [
       "6.0"
      ]
     },
     "execution_count": 4,
     "metadata": {},
     "output_type": "execute_result"
    }
   ],
   "source": [
    "# Derivative of y with respect to the original input tensor x\n",
    "dy_dx = tape.gradient(y, x)\n",
    "dy_dx.numpy()"
   ]
  },
  {
   "cell_type": "code",
   "execution_count": 5,
   "metadata": {},
   "outputs": [],
   "source": [
    "# Example with tensor input\n",
    "w = tf.Variable(tf.random.normal((3, 2)), name='w')\n",
    "b = tf.Variable(tf.zeros(2, dtype=tf.float32), name='b')\n",
    "\n",
    "x = [[1., 2., 3.]]\n",
    "\n",
    "with tf.GradientTape(persistent=True) as tape:\n",
    "    y = x @ w + b\n",
    "    loss = tf.reduce_mean(y**2)"
   ]
  },
  {
   "attachments": {},
   "cell_type": "markdown",
   "metadata": {},
   "source": [
    "The `persistent` argument to `GradientTape()` allows multiple calls to `GradientTape.gradient()`. This is useful for more advanced use cases, such as computing the gradient of the gradient of a function.\n",
    "\n",
    "To get the gradient of `loss` with respect to **weights** and **biases**, you cam pass both as sources to `GradientTape.gradient()`. The tape is flexible about how sources are passed and will accept any nested combination of lists, tuples, and dictionaries and will return the gradients in the same structure (see [tf.nest](https://www.tensorflow.org/api_docs/python/tf/nest))."
   ]
  },
  {
   "cell_type": "code",
   "execution_count": 6,
   "metadata": {},
   "outputs": [
    {
     "name": "stdout",
     "output_type": "stream",
     "text": [
      "(3, 2)\n",
      "(3, 2)\n",
      "tf.Tensor(\n",
      "[[ -3.7757063  -6.771224 ]\n",
      " [ -7.5514126 -13.542448 ]\n",
      " [-11.327119  -20.313671 ]], shape=(3, 2), dtype=float32)\n",
      "tf.Tensor([-3.7757063 -6.771224 ], shape=(2,), dtype=float32)\n"
     ]
    }
   ],
   "source": [
    "[dl_dw, dl_db] = tape.gradient(loss, [w, b])\n",
    "print(w.shape)\n",
    "print(dl_dw.shape)\n",
    "\n",
    "print(dl_dw)\n",
    "print(dl_db)"
   ]
  },
  {
   "attachments": {},
   "cell_type": "markdown",
   "metadata": {},
   "source": [
    "Here it is the same example, but using a dictionary as sources."
   ]
  },
  {
   "cell_type": "code",
   "execution_count": 7,
   "metadata": {},
   "outputs": [
    {
     "name": "stdout",
     "output_type": "stream",
     "text": [
      "tf.Tensor(\n",
      "[[ -3.7757063  -6.771224 ]\n",
      " [ -7.5514126 -13.542448 ]\n",
      " [-11.327119  -20.313671 ]], shape=(3, 2), dtype=float32)\n",
      "tf.Tensor([-3.7757063 -6.771224 ], shape=(2,), dtype=float32)\n"
     ]
    }
   ],
   "source": [
    "my_vars = {\n",
    "    'w': w,\n",
    "    'b': b\n",
    "}\n",
    "\n",
    "grad = tape.gradient(loss, my_vars)\n",
    "print(grad['w'])\n",
    "print(grad['b'])"
   ]
  },
  {
   "attachments": {},
   "cell_type": "markdown",
   "metadata": {},
   "source": [
    "## Gradients with respect to a model\n",
    "\n",
    "The `tf.GradientTape` API can be used to compute gradients with respect to a model's parameters.\n",
    "It's common to collect `tf.Variables` into a `tf.Module` or one of its subclasses. In most cases, you will want to calculate gradients with respect to a **model's trainable variables**. Since all subclasses of `tf.Module` aggregate their variables in the `Module.trainable_variables` property, you can calculate these gradients in a few lines of code:"
   ]
  },
  {
   "cell_type": "code",
   "execution_count": 8,
   "metadata": {},
   "outputs": [],
   "source": [
    "layer = tf.keras.layers.Dense(2, activation='relu')\n",
    "x = tf.constant([[1., 2., 3.]])\n",
    "\n",
    "with tf.GradientTape() as tape:\n",
    "    # Forward pass\n",
    "    y = layer(x)\n",
    "    loss = tf.reduce_mean(y**2)\n",
    "\n",
    "# Backward pass\n",
    "grad = tape.gradient(loss, layer.trainable_variables)"
   ]
  },
  {
   "cell_type": "code",
   "execution_count": 9,
   "metadata": {},
   "outputs": [
    {
     "name": "stdout",
     "output_type": "stream",
     "text": [
      "dense/kernel:0, shape: (3, 2)\n",
      "[[0.9049958 0.       ]\n",
      " [1.8099916 0.       ]\n",
      " [2.7149873 0.       ]], shape: (3, 2)\n",
      "dense/bias:0, shape: (2,)\n",
      "[0.9049958 0.       ], shape: (2,)\n"
     ]
    }
   ],
   "source": [
    "for var, g in zip(layer.trainable_variables, grad):\n",
    "    print(f'{var.name}, shape: {var.shape}')\n",
    "    print(f'{g}, shape: {g.shape}')"
   ]
  },
  {
   "attachments": {},
   "cell_type": "markdown",
   "metadata": {},
   "source": [
    "## Controlling what the tape watches\n",
    "\n",
    "By default, a `tf.GradientTape` watches all trainable `tf.Variables` that are accessed inside the context.\n",
    "It records all operations after accessing a trainable variable.\n",
    "The reasons for this are:\n",
    "* It's common to want to compute the gradient of a loss with respect to all trainable variables.\n",
    "* The tape needs to know which operations to record in the forward pass to calculate the gradients in the backwards pass.\n",
    "* The tape holds referensed to intermediate outputs, so you don't need to record unnecessary operations."
   ]
  },
  {
   "cell_type": "code",
   "execution_count": 10,
   "metadata": {},
   "outputs": [
    {
     "name": "stdout",
     "output_type": "stream",
     "text": [
      "x0: 6.0\n",
      "x1: None\n",
      "x2: None\n",
      "x3: None\n"
     ]
    }
   ],
   "source": [
    "# For example, the following fails to calculate a gradient because the tf.Tensor is not \"watched\" by default, and the tf.Variable is not trainable:\n",
    "\n",
    "x0 = tf.Variable(3.0, name='x0')\n",
    "x1 = tf.Variable(4.0, name='x1', trainable=False) # not trainable\n",
    "x2 = tf.Variable(5.0, name='x2') + 1.0 # x2 is not a variable, but a tensor\n",
    "x3 = tf.constant(3.0, name='x3') # x3 is not a variable, but a tensor\n",
    "\n",
    "with tf.GradientTape() as tape:\n",
    "    y = x0**2 + x1**2 + x2**2 + x3**2\n",
    "\n",
    "grad = tape.gradient(y, {'x0': x0, 'x1': x1, 'x2': x2, 'x3': x3})\n",
    "for g in grad:\n",
    "    print(f'{g}: {grad[g]}')"
   ]
  },
  {
   "attachments": {},
   "cell_type": "markdown",
   "metadata": {},
   "source": [
    "You can list the variables being watched by a tape using `GradientTape.watched_variables()`."
   ]
  },
  {
   "cell_type": "code",
   "execution_count": 11,
   "metadata": {},
   "outputs": [
    {
     "data": {
      "text/plain": [
       "['x0:0']"
      ]
     },
     "execution_count": 11,
     "metadata": {},
     "output_type": "execute_result"
    }
   ],
   "source": [
    "[var.name for var in tape.watched_variables()]"
   ]
  },
  {
   "attachments": {},
   "cell_type": "markdown",
   "metadata": {},
   "source": [
    "`tf.GradientTape` provides hooks that give the user control over what is or is not watched.\n",
    "To record gradients with respect to a tf.Tensor, you need to call `GradientTape.watch(x)`:"
   ]
  },
  {
   "cell_type": "code",
   "execution_count": 12,
   "metadata": {},
   "outputs": [
    {
     "name": "stdout",
     "output_type": "stream",
     "text": [
      "x: 6.0\n",
      "x0: 6.0\n",
      "x1: 8.0\n",
      "x2: 12.0\n",
      "x3: 6.0\n"
     ]
    }
   ],
   "source": [
    "x = tf.constant(3.0)\n",
    "with tf.GradientTape() as tape:\n",
    "    tape.watch(x)\n",
    "    y = x**2\n",
    "\n",
    "dy_dx = tape.gradient(y, x)\n",
    "print(f'x: {dy_dx.numpy()}')\n",
    "\n",
    "with tf.GradientTape() as tape:\n",
    "    tape.watch([x0, x1, x2, x3])\n",
    "    y = x0**2 + x1**2 + x2**2 + x3**2\n",
    "\n",
    "grad = tape.gradient(y, {'x0': x0, 'x1': x1, 'x2': x2, 'x3': x3})\n",
    "for g in grad:\n",
    "    print(f'{g}: {grad[g]}')"
   ]
  },
  {
   "attachments": {},
   "cell_type": "markdown",
   "metadata": {},
   "source": [
    "Conversely, to disable the default behavior of watching all `tf.Variables`, set `watch_accessed_variables=False` when creating the gradient tape. This calculation uses two variables, but only connects the gradient for one of the variables:"
   ]
  },
  {
   "cell_type": "code",
   "execution_count": 13,
   "metadata": {},
   "outputs": [
    {
     "name": "stdout",
     "output_type": "stream",
     "text": [
      "x0: None\n",
      "x1: 4.5416676584864035e-05\n"
     ]
    }
   ],
   "source": [
    "x0 = tf.Variable(0.0)\n",
    "x1 = tf.Variable(10.0)\n",
    "\n",
    "with tf.GradientTape(watch_accessed_variables=False) as tape:\n",
    "    tape.watch(x1)\n",
    "    y0 = tf.math.sin(x0)\n",
    "    y1 = tf.nn.sigmoid(x1)\n",
    "    y = y0 + y1\n",
    "    ys = tf.reduce_sum(y)\n",
    "\n",
    "grad = tape.gradient(ys, {'x0': x0, 'x1': x1})\n",
    "for g in grad:\n",
    "    print(f'{g}: {grad[g]}')\n"
   ]
  },
  {
   "attachments": {},
   "cell_type": "markdown",
   "metadata": {},
   "source": [
    "## Intermediate results\n",
    "You can also request the gradient of a computation with respect to intermediate results. Computed inside the `tf.GradientTape` context, intermediate results are available to the `GradientTape` for the duration of that context. The gradient of the computation with respect to an intermediate result can be calculated by passing the intermediate `tf.Tensor` to `GradientTape.gradient()` as source."
   ]
  },
  {
   "cell_type": "code",
   "execution_count": 14,
   "metadata": {},
   "outputs": [
    {
     "name": "stdout",
     "output_type": "stream",
     "text": [
      "18.0\n"
     ]
    }
   ],
   "source": [
    "x = tf.constant(3.0)\n",
    "with tf.GradientTape() as tape:\n",
    "    tape.watch(x)\n",
    "    y = x**2\n",
    "    z = y * y\n",
    "\n",
    "# Use the same tape to compute the derivative of z with respect to the intermediate value y.\n",
    "print(tape.gradient(z, y).numpy())"
   ]
  },
  {
   "attachments": {},
   "cell_type": "markdown",
   "metadata": {},
   "source": [
    "As said before, by default, the resources held by a `tf.GradientTape` are released as soon as the `tf.GradientTape.gradient` method is called. To compute **multiple gradients** over the same computation, create a gradient tape with `persistent=True`. This allows multiple calls to the gradient method as resources are released when the tape object is garbage collected. For example:"
   ]
  },
  {
   "cell_type": "code",
   "execution_count": 44,
   "metadata": {},
   "outputs": [
    {
     "name": "stdout",
     "output_type": "stream",
     "text": [
      "[[  4.  32.]\n",
      " [108. 256.]]\n",
      "[[2. 4.]\n",
      " [6. 8.]]\n",
      "WARNING:tensorflow:Calling GradientTape.gradient on a persistent tape inside its context is significantly less efficient than calling it outside the context (it causes the gradient ops to be recorded on the tape, leading to increased CPU and memory usage). Only call GradientTape.gradient inside the context if you actually want to trace the gradient in order to compute higher order derivatives.\n"
     ]
    },
    {
     "data": {
      "image/png": "[encoded data removed]",
      "text/plain": [
       "<Figure size 640x480 with 1 Axes>"
      ]
     },
     "metadata": {},
     "output_type": "display_data"
    }
   ],
   "source": [
    "x = tf.constant([[1., 2.], [3., 4.]])\n",
    "with tf.GradientTape(persistent=True) as tape:\n",
    "    tape.watch(x)\n",
    "    y = x * x\n",
    "    z = y * y\n",
    "\n",
    "print(tape.gradient(z, x).numpy())\n",
    "print(tape.gradient(y, x).numpy())\n",
    "\n",
    "# Compute second-order derivative\n",
    "x = tf.linspace(-10., 10., 200+1)\n",
    "with tf.GradientTape(persistent=True) as tape:\n",
    "    tape.watch(x)\n",
    "    y = tf.nn.sigmoid(x)\n",
    "    dy_dx = tape.gradient(y, x)\n",
    "dy2_dx2 = tape.gradient(dy_dx, x)\n",
    "\n",
    "plt.plot(x, y, label='y')\n",
    "plt.plot(x, dy_dx, label='dy/dx')\n",
    "plt.plot(x, dy2_dx2, label='d2y/dx2')\n",
    "plt.legend()\n",
    "_ = plt.xlabel('x')"
   ]
  },
  {
   "attachments": {},
   "cell_type": "markdown",
   "metadata": {},
   "source": [
    "If you use a persisted gradient, you can drop the reference to the tape when you are done with it, otherwise it will leak memory."
   ]
  },
  {
   "cell_type": "code",
   "execution_count": 45,
   "metadata": {},
   "outputs": [],
   "source": [
    "del tape"
   ]
  },
  {
   "attachments": {},
   "cell_type": "markdown",
   "metadata": {},
   "source": [
    "## Notes on performance\n",
    "1. If you are computing the gradient of a scalar-valued function, you can omit the `sources` argument to `GradientTape.gradient()`. This is because there is only one element in the gradient vector, and hence it is the gradient itself.\n",
    "\n",
    "2. If you are computing the gradient of a vector-valued function, you can pass a `tf.Tensor` with shape `[N]` as the source. This is equivalent to passing a list of `N` `tf.Tensor`s with shape `[]` as the source, but may be more efficient.\n",
    "\n",
    "3. If you are computing the gradient of a matrix-valued function, you can pass a `tf.Tensor` with shape `[M, N]` as the source. This is equivalent to passing a list of `M` `tf.Tensor`s with shape `[N]` as the source, but may be more efficient.\n",
    "\n",
    "4. If you are computing the gradient of a function with respect to a list of variables, you can pass a list of `tf.Tensor`s as the source. This is equivalent to passing a list of `tf.Tensor`s with shape `[1]` as the source, but may be more efficient.\n",
    "\n",
    "6. There is a **tiny overhead** associated with doing operations inside a gradient tape context. For most eager execution this will not be a noticeable cost, but you should still use tape context around the areas only where it is required. \n",
    "\n",
    "7. Gradient tapes use memory to store intermediate results, including inputs and outputs, for use during the backwards pass. For efficiency, some ops (like **ReLU**) don't need to keep their intermediate results and they are pruned during the forward pass. However, if you use `persistent=True` on your tape, **nothing is discarded** and your peak memory usage will be higher."
   ]
  },
  {
   "attachments": {},
   "cell_type": "markdown",
   "metadata": {},
   "source": [
    "## Gradients of non-scalar targets\n",
    "A gradient is fundamentally an operation on a scalar."
   ]
  },
  {
   "cell_type": "code",
   "execution_count": 17,
   "metadata": {},
   "outputs": [
    {
     "name": "stdout",
     "output_type": "stream",
     "text": [
      "4.0\n",
      "-0.25\n"
     ]
    }
   ],
   "source": [
    "x = tf.Variable(2.0)\n",
    "with tf.GradientTape(persistent=True) as tape:\n",
    "  y0 = x**2\n",
    "  y1 = 1 / x\n",
    "\n",
    "print(tape.gradient(y0, x).numpy())\n",
    "print(tape.gradient(y1, x).numpy())"
   ]
  },
  {
   "attachments": {},
   "cell_type": "markdown",
   "metadata": {},
   "source": [
    "Thus, if you ask for the gradient of multiple targets, the result for each source is:\n",
    "* The gradient of the sum of the targets, or equivalently\n",
    "* The sum of the gradients of each target."
   ]
  },
  {
   "cell_type": "code",
   "execution_count": 18,
   "metadata": {},
   "outputs": [
    {
     "name": "stdout",
     "output_type": "stream",
     "text": [
      "3.75\n"
     ]
    }
   ],
   "source": [
    "x = tf.Variable(2.0)\n",
    "with tf.GradientTape() as tape:\n",
    "  y0 = x**2\n",
    "  y1 = 1 / x\n",
    "\n",
    "print(tape.gradient({'y0': y0, 'y1': y1}, x).numpy()) # dy0/dx + dy1/dx"
   ]
  },
  {
   "attachments": {},
   "cell_type": "markdown",
   "metadata": {},
   "source": [
    "Similarly, if the target(s) are not scalar the gradient of the sum is calculated:"
   ]
  },
  {
   "cell_type": "code",
   "execution_count": 19,
   "metadata": {},
   "outputs": [
    {
     "name": "stdout",
     "output_type": "stream",
     "text": [
      "7.0\n"
     ]
    }
   ],
   "source": [
    "x = tf.Variable(2.)\n",
    "\n",
    "with tf.GradientTape() as tape:\n",
    "  y = x * [3., 4.]\n",
    "\n",
    "print(tape.gradient(y, x).numpy())"
   ]
  },
  {
   "attachments": {},
   "cell_type": "markdown",
   "metadata": {},
   "source": [
    "This makes it simple to take the gradient of the sum of a collection of losses, or the gradient of the sum of an element-wise loss calculation.\n",
    "\n",
    "If you need a separate gradient for each item, refer to [Jacobians](https://www.tensorflow.org/guide/advanced_autodiff#jacobians).\n",
    "\n",
    "In some cases you can skip the Jacobian. For an element-wise calculation, the gradient of the sum gives the derivative of each element with respect to its input-element, since each element is independent:"
   ]
  },
  {
   "cell_type": "code",
   "execution_count": 24,
   "metadata": {},
   "outputs": [
    {
     "name": "stdout",
     "output_type": "stream",
     "text": [
      "(201,)\n",
      "(201,)\n"
     ]
    }
   ],
   "source": [
    "x = tf.linspace(-10., 10., 200+1)\n",
    "with tf.GradientTape() as tape:\n",
    "    tape.watch(x)\n",
    "    y = tf.nn.sigmoid(x)\n",
    "\n",
    "dy_dx = tape.gradient(y, x)\n",
    "print(x.shape)\n",
    "print(dy_dx.shape)"
   ]
  },
  {
   "cell_type": "code",
   "execution_count": 21,
   "metadata": {},
   "outputs": [
    {
     "data": {
      "image/png": "[encoded data removed]",
      "text/plain": [
       "<Figure size 640x480 with 1 Axes>"
      ]
     },
     "metadata": {},
     "output_type": "display_data"
    }
   ],
   "source": [
    "plt.plot(x, y, label='y')\n",
    "plt.plot(x, dy_dx, label='dy/dx')\n",
    "plt.legend()\n",
    "_ = plt.xlabel('x')"
   ]
  },
  {
   "attachments": {},
   "cell_type": "markdown",
   "metadata": {},
   "source": [
    "## Control Flow\n",
    "\n",
    "The `tf.GradientTape` API can be used to compute gradients of loops and conditionals.\n",
    "Because the tape records operations as they are executed, Python control flow (using `if` and `while` statements) is naturally handled.\n",
    "Here a different variable is used on each branch of an `if`. The gradient only connects to the variable that was used:"
   ]
  },
  {
   "cell_type": "code",
   "execution_count": 47,
   "metadata": {},
   "outputs": [
    {
     "name": "stdout",
     "output_type": "stream",
     "text": [
      "dv0: 1.0\n",
      "dv1: None\n"
     ]
    }
   ],
   "source": [
    "x = tf.constant(1.0)\n",
    "\n",
    "v0 = tf.Variable(2.0)\n",
    "v1 = tf.Variable(2.0)\n",
    "\n",
    "with tf.GradientTape(persistent=True) as tape:\n",
    "    tape.watch(x)\n",
    "    if x > 0.0:\n",
    "        result = v0\n",
    "    else:\n",
    "        result = v1**2\n",
    "    \n",
    "dv0, dv1 = tape.gradient(result, [v0, v1])\n",
    "\n",
    "print(f'dv0: {dv0}')\n",
    "print(f'dv1: {dv1}')"
   ]
  },
  {
   "attachments": {},
   "cell_type": "markdown",
   "metadata": {},
   "source": [
    "Just remember that the control statements themselves are not differentiable, so they are **invisible** to gradient-based optimizers.\n",
    "\n",
    "Depending on the value of `x` in the above example, the tape either records `result = v0` or `result = v1**2`. The gradient with respect to `x` is always `None`."
   ]
  },
  {
   "cell_type": "code",
   "execution_count": 48,
   "metadata": {},
   "outputs": [
    {
     "name": "stdout",
     "output_type": "stream",
     "text": [
      "dx: None\n"
     ]
    }
   ],
   "source": [
    "dx = tape.gradient(result, x)\n",
    "print(f'dx: {dx}')"
   ]
  },
  {
   "attachments": {},
   "cell_type": "markdown",
   "metadata": {},
   "source": [
    "## Cases where gradient returns **None**\n",
    "This occurs when the gradient is not defined for a particular source. This can happen for a number of reasons, including the following:"
   ]
  },
  {
   "cell_type": "code",
   "execution_count": 51,
   "metadata": {},
   "outputs": [
    {
     "name": "stdout",
     "output_type": "stream",
     "text": [
      "dz/dy: 6.0\n",
      "dz/dx: None\n"
     ]
    }
   ],
   "source": [
    "# 1. The target is not connected to the source\n",
    "x = tf.Variable(2.0)\n",
    "y = tf.Variable(3.0)\n",
    "\n",
    "with tf.GradientTape(persistent=True) as tape:\n",
    "    z = y * y\n",
    "grad = tape.gradient(z, {'y': y, 'x': x})\n",
    "print(f'dz/dy: {grad[\"y\"]}')\n",
    "print(f'dz/dx: {grad[\"x\"]}')"
   ]
  },
  {
   "cell_type": "code",
   "execution_count": 58,
   "metadata": {},
   "outputs": [
    {
     "name": "stdout",
     "output_type": "stream",
     "text": [
      "epoch: 0, ResourceVariable: [16.]\n",
      "epoch: 1, EagerTensor: None\n"
     ]
    }
   ],
   "source": [
    "# 2. The source is inadvertently not a tf.Variable\n",
    "x = tf.Variable([2.0])\n",
    "for epoch in range(2):\n",
    "    with tf.GradientTape() as tape:\n",
    "        y = [x**2, x**3]\n",
    "    dy_dx = tape.gradient(y, x)\n",
    "    print(f'epoch: {epoch}, {type(x).__name__}: {dy_dx}')\n",
    "    x = x + 1.0 # x is no more a tf.Variable"
   ]
  },
  {
   "cell_type": "code",
   "execution_count": 61,
   "metadata": {},
   "outputs": [
    {
     "name": "stdout",
     "output_type": "stream",
     "text": [
      "None\n"
     ]
    }
   ],
   "source": [
    "# 3. You did calculations outside of tensorflow\n",
    "x = tf.Variable([[1., 2.],\n",
    "                 [3., 4.]], dtype=tf.float32)\n",
    "\n",
    "with tf.GradientTape() as tape:\n",
    "    x2 = x**2\n",
    "    y = np.mean(x2, axis=0) # this is calculated outside of tensorflow in numpy\n",
    "    y = tf.reduce_mean(y, axis=0) # this is calculated in tensorflow and works fine becuase the numpy array is converted to a tensor\n",
    "grad = tape.gradient(y, x)\n",
    "print(grad)\n",
    "\n",
    "# This may occur also when you import something from outside"
   ]
  },
  {
   "cell_type": "code",
   "execution_count": 63,
   "metadata": {},
   "outputs": [
    {
     "name": "stdout",
     "output_type": "stream",
     "text": [
      "None\n"
     ]
    }
   ],
   "source": [
    "# 4. Took gradients through an integer of string, which are not differentiable\n",
    "x = tf.Variable(2) # The dtype of the watched tensor must be floating\n",
    "with tf.GradientTape() as tape:\n",
    "    y = x**2\n",
    "\n",
    "grad = tape.gradient(y, x)\n",
    "print(grad)\n"
   ]
  },
  {
   "cell_type": "code",
   "execution_count": 65,
   "metadata": {},
   "outputs": [
    {
     "name": "stdout",
     "output_type": "stream",
     "text": [
      "dy/dx0: None\n",
      "dy/dx1: 6.0\n"
     ]
    }
   ],
   "source": [
    "# 5. Took gradients through a stateful object, since the tape can only observe the current state and not the history of the stateful object\n",
    "# Tensors are stateless, but tf.Variable is stateful and blocks the gradient\n",
    "x0 = tf.Variable(3.0)\n",
    "x1 = tf.Variable(0.0)\n",
    "\n",
    "with tf.GradientTape() as tape:\n",
    "    x1.assign_add(x0)\n",
    "    y = x1**2 # y = (x0 + x1)**2, but the tape starts recording only x1 \n",
    "\n",
    "grad = tape.gradient(y, {'x0': x0, 'x1': x1})\n",
    "print(f'dy/dx0: {grad[\"x0\"]}')\n",
    "print(f'dy/dx1: {grad[\"x1\"]}')\n",
    "\n",
    "# Similarly, `tf.data.Dataset` and `tf.queue` are stateful and block the gradient"
   ]
  },
  {
   "attachments": {},
   "cell_type": "markdown",
   "metadata": {},
   "source": [
    "## No gradient registered\n",
    "\n",
    "Some `tf.Operations` are registered as being **non-differentiable** and will return `None`. Others have `no gradient registered`.\n",
    "\n",
    "The [tf.raw_ops](https://www.tensorflow.org/api_docs/python/tf/raw_ops) page shows which low-level ops have gradients registered.\n",
    "\n",
    "If you attempt to take a gradient through a float op that has no gradient registered the tape will `throw an error` instead of silently returning None. This way you know something has gone wrong.\n",
    "\n",
    "For example, the `tf.image.adjust_contrast` function wraps `raw_ops.AdjustContrastv2`, which could have a gradient but the gradient is not implemented. If you try to take the gradient of the output of `tf.image.adjust_contrast` you will get an error.\n",
    "\n",
    "If you are using a custom op, you may need to register a gradient function for it. See [Custom gradients](https://www.tensorflow.org/guide/advanced_autodiff#custom_gradients) for more information."
   ]
  },
  {
   "cell_type": "code",
   "execution_count": 66,
   "metadata": {},
   "outputs": [
    {
     "name": "stdout",
     "output_type": "stream",
     "text": [
      "LookupError: gradient registry has no entry for: AdjustContrastv2\n"
     ]
    }
   ],
   "source": [
    "image = tf.Variable([[[0.5, 0.0, 0.0]]])\n",
    "delta = tf.Variable(0.1)\n",
    "\n",
    "with tf.GradientTape() as tape:\n",
    "    new_image = tf.image.adjust_contrast(image, delta)\n",
    "\n",
    "try:\n",
    "    grad = tape.gradient(new_image, [image, delta])\n",
    "    print(grad)\n",
    "    assert False # This should not be reached\n",
    "except LookupError as e:\n",
    "    print(f'LookupError: {e}')"
   ]
  },
  {
   "attachments": {},
   "cell_type": "markdown",
   "metadata": {},
   "source": [
    "If you need to differentiate through this op, you'll either need to implement the gradient and register it (using `tf.RegisterGradient`) or re-implement the function using other ops."
   ]
  },
  {
   "attachments": {},
   "cell_type": "markdown",
   "metadata": {},
   "source": [
    "## Zero instead of None\n",
    "\n",
    "In some cases it would be convenient to get `0` instead of `None` for unconnected gradients. You can decide what to return when you have unconnected gradients using the `unconnected_gradients` argument:"
   ]
  },
  {
   "cell_type": "code",
   "execution_count": 68,
   "metadata": {},
   "outputs": [
    {
     "name": "stdout",
     "output_type": "stream",
     "text": [
      "dz/dx: [0. 0.]\n",
      "dz/dy: 6.0\n"
     ]
    }
   ],
   "source": [
    "x = tf.Variable([2.0, 2.0])\n",
    "y = tf.Variable(3.)\n",
    "\n",
    "with tf.GradientTape() as tape:\n",
    "    z = y * y\n",
    "\n",
    "grad = tape.gradient(z, {'x': x, 'y': y}, unconnected_gradients=tf.UnconnectedGradients.ZERO)\n",
    "print(f'dz/dx: {grad[\"x\"]}')\n",
    "print(f'dz/dy: {grad[\"y\"]}')"
   ]
  }
 ],
 "metadata": {
  "kernelspec": {
   "display_name": ".venv",
   "language": "python",
   "name": "python3"
  },
  "language_info": {
   "codemirror_mode": {
    "name": "ipython",
    "version": 3
   },
   "file_extension": ".py",
   "mimetype": "text/x-python",
   "name": "python",
   "nbconvert_exporter": "python",
   "pygments_lexer": "ipython3",
   "version": "3.8.10"
  },
  "orig_nbformat": 4,
  "vscode": {
   "interpreter": {
    "hash": "3da73983a67b104596d006960b22d6935bc5ef99c85b6c0f2acbfe841677b310"
   }
  }
 },
 "nbformat": 4,
 "nbformat_minor": 2
}
