{
 "cells": [
  {
   "attachments": {},
   "cell_type": "markdown",
   "metadata": {},
   "source": [
    "**TensorFlow** is an end-to-end open source platform for machine learning. It has a comprehensive, flexible ecosystem of tools, libraries, and community resources that lets researchers push the state-of-the-art in ML and developers easily build and deploy ML-powered applications.\n",
    "It supports the following:\n",
    "* Multidimensional-array based numeric computation\n",
    "* GPU and distributed computing\n",
    "* Automatic differentiation\n",
    "* A large ecosystem of tools, libraries, and community resources\n",
    "* Model construction, training and export "
   ]
  },
  {
   "attachments": {},
   "cell_type": "markdown",
   "metadata": {},
   "source": [
    "# Tensors\n",
    "TensorFlow operates on multidimensional arrays or tensors represented as tf.Tensor objects. \n",
    "A tf.Tensor object has a data type and a shape and it is created by TensorFlow operations or by the user using the tf.constant function.\n",
    "Here is a two-dimensional tensor:"
   ]
  },
  {
   "cell_type": "code",
   "execution_count": 1,
   "metadata": {},
   "outputs": [
    {
     "name": "stderr",
     "output_type": "stream",
     "text": [
      "2023-03-30 16:08:12.674093: I tensorflow/core/platform/cpu_feature_guard.cc:193] This TensorFlow binary is optimized with oneAPI Deep Neural Network Library (oneDNN) to use the following CPU instructions in performance-critical operations:  AVX512_VNNI\n",
      "To enable them in other operations, rebuild TensorFlow with the appropriate compiler flags.\n"
     ]
    },
    {
     "name": "stdout",
     "output_type": "stream",
     "text": [
      "tf.Tensor(\n",
      "[[1. 2. 3.]\n",
      " [4. 5. 6.]], shape=(2, 3), dtype=float32)\n",
      "(2, 3)\n",
      "<dtype: 'float32'>\n"
     ]
    },
    {
     "name": "stderr",
     "output_type": "stream",
     "text": [
      "2023-03-30 16:08:15.181406: I tensorflow/core/platform/cpu_feature_guard.cc:193] This TensorFlow binary is optimized with oneAPI Deep Neural Network Library (oneDNN) to use the following CPU instructions in performance-critical operations:  AVX512_VNNI\n",
      "To enable them in other operations, rebuild TensorFlow with the appropriate compiler flags.\n",
      "2023-03-30 16:08:15.182276: I tensorflow/core/common_runtime/process_util.cc:146] Creating new thread pool with default inter op setting: \n"
     ]
    }
   ],
   "source": [
    "import tensorflow as tf\n",
    "\n",
    "x = tf.constant([[1., 2., 3.,],\n",
    "                 [4., 5., 6.,]])\n",
    "print(x)\n",
    "print(x.shape)\n",
    "print(x.dtype)"
   ]
  },
  {
   "attachments": {},
   "cell_type": "markdown",
   "metadata": {},
   "source": [
    "The most important attributes of a tf.Tensor are its shape and dtype:\n",
    "\n",
    "* Tensor.shape: tells you the size of the tensor along each of its axes.\n",
    "* Tensor.dtype: tells you the type of all the elements in the tensor.\n",
    "\n",
    "TensorFlow implements standard mathematical operations on tensors, as well as many operations specialized for machine learning."
   ]
  },
  {
   "cell_type": "code",
   "execution_count": 3,
   "metadata": {},
   "outputs": [
    {
     "data": {
      "text/plain": [
       "<tf.Tensor: shape=(2, 3), dtype=float32, numpy=\n",
       "array([[ 2.,  4.,  6.],\n",
       "       [ 8., 10., 12.]], dtype=float32)>"
      ]
     },
     "execution_count": 3,
     "metadata": {},
     "output_type": "execute_result"
    }
   ],
   "source": [
    "# Summation\n",
    "x + x"
   ]
  },
  {
   "cell_type": "code",
   "execution_count": 4,
   "metadata": {},
   "outputs": [
    {
     "data": {
      "text/plain": [
       "<tf.Tensor: shape=(2, 3), dtype=float32, numpy=\n",
       "array([[ 5., 10., 15.],\n",
       "       [20., 25., 30.]], dtype=float32)>"
      ]
     },
     "execution_count": 4,
     "metadata": {},
     "output_type": "execute_result"
    }
   ],
   "source": [
    "# Multiplication by a scalar\n",
    "5 * x"
   ]
  },
  {
   "cell_type": "code",
   "execution_count": 5,
   "metadata": {},
   "outputs": [
    {
     "data": {
      "text/plain": [
       "<tf.Tensor: shape=(2, 2), dtype=float32, numpy=\n",
       "array([[14., 32.],\n",
       "       [32., 77.]], dtype=float32)>"
      ]
     },
     "execution_count": 5,
     "metadata": {},
     "output_type": "execute_result"
    }
   ],
   "source": [
    "# Matrix multiplication\n",
    "x @ tf.transpose(x) "
   ]
  },
  {
   "cell_type": "code",
   "execution_count": 8,
   "metadata": {},
   "outputs": [
    {
     "name": "stdout",
     "output_type": "stream",
     "text": [
      "tf.Tensor(\n",
      "[[1. 2. 3.]\n",
      " [4. 5. 6.]\n",
      " [1. 2. 3.]\n",
      " [4. 5. 6.]\n",
      " [1. 2. 3.]\n",
      " [4. 5. 6.]], shape=(6, 3), dtype=float32)\n",
      "tf.Tensor(\n",
      "[[1. 2. 3. 1. 2. 3. 1. 2. 3.]\n",
      " [4. 5. 6. 4. 5. 6. 4. 5. 6.]], shape=(2, 9), dtype=float32)\n"
     ]
    }
   ],
   "source": [
    "# Concatenation\n",
    "print(tf.concat([x, x, x], axis=0))\n",
    "print(tf.concat([x, x, x], axis=1))"
   ]
  },
  {
   "cell_type": "code",
   "execution_count": 11,
   "metadata": {},
   "outputs": [
    {
     "name": "stdout",
     "output_type": "stream",
     "text": [
      "tf.Tensor(\n",
      "[[0.04742587 0.04742587 0.04742587]\n",
      " [0.95257413 0.95257413 0.95257413]], shape=(2, 3), dtype=float32)\n",
      "tf.Tensor(\n",
      "[[0.09003057 0.24472848 0.66524094]\n",
      " [0.09003057 0.24472848 0.66524094]], shape=(2, 3), dtype=float32)\n",
      "tf.Tensor(\n",
      "[[0.09003057 0.24472848 0.66524094]\n",
      " [0.09003057 0.24472848 0.66524094]], shape=(2, 3), dtype=float32)\n",
      "tf.Tensor(\n",
      "[[0.09003057 0.24472848 0.66524094]\n",
      " [0.09003057 0.24472848 0.66524094]], shape=(2, 3), dtype=float32)\n"
     ]
    }
   ],
   "source": [
    "# Softmax Normalization\n",
    "print(tf.nn.softmax(x, axis=0))\n",
    "print(tf.nn.softmax(x)) # axis=-1 is the default\n",
    "print(tf.nn.softmax(x, axis=1))\n",
    "print(tf.nn.softmax(x, axis=-1))\n"
   ]
  },
  {
   "cell_type": "code",
   "execution_count": 13,
   "metadata": {},
   "outputs": [
    {
     "name": "stdout",
     "output_type": "stream",
     "text": [
      "tf.Tensor(21.0, shape=(), dtype=float32)\n",
      "tf.Tensor([5. 7. 9.], shape=(3,), dtype=float32)\n",
      "tf.Tensor([ 6. 15.], shape=(2,), dtype=float32)\n"
     ]
    }
   ],
   "source": [
    "# Summation of elements\n",
    "print(tf.reduce_sum(x)) # Summation over all elements\n",
    "print(tf.reduce_sum(x, axis=0))\n",
    "print(tf.reduce_sum(x, axis=1))"
   ]
  },
  {
   "attachments": {},
   "cell_type": "markdown",
   "metadata": {},
   "source": [
    "Typically, anywhere a TensorFlow function expects a Tensor as input, the function will also accept anything that can be converted to a Tensor using tf.convert_to_tensor. See below for an example.\n",
    "All standard Python op constructors apply this function to each of their Tensor-valued inputs, which allows those ops to accept numpy arrays, Python lists, and scalars in addition to Tensor objects.\n",
    "\n",
    "**Note**: This function diverges from default Numpy behavior for float and string types when None is present in a Python list or scalar. Rather than silently converting None values, an error will be thrown."
   ]
  },
  {
   "cell_type": "code",
   "execution_count": 14,
   "metadata": {},
   "outputs": [
    {
     "name": "stdout",
     "output_type": "stream",
     "text": [
      "tf.Tensor([1 2 3], shape=(3,), dtype=int32)\n",
      "tf.Tensor([1. 2. 3.], shape=(3,), dtype=float32)\n",
      "tf.Tensor([1. 2. 3.], shape=(3,), dtype=float64)\n",
      "tf.Tensor([1. 2. 3.], shape=(3,), dtype=float64)\n",
      "tf.Tensor(\n",
      "[[1. 2. 3.]\n",
      " [3. 6. 8.]], shape=(2, 3), dtype=float64)\n"
     ]
    }
   ],
   "source": [
    "import numpy as np\n",
    "\n",
    "print(tf.convert_to_tensor([1,2,3]))\n",
    "print(tf.convert_to_tensor([1,2,3.]))\n",
    "print(tf.convert_to_tensor([1,2,3.], dtype=tf.float64))\n",
    "print(tf.convert_to_tensor(np.array([1,2,3.], dtype=np.float64)))\n",
    "print(tf.convert_to_tensor(np.array([[1,2,3.], [3, 6., 8]], dtype=np.float64)))\n"
   ]
  },
  {
   "attachments": {},
   "cell_type": "markdown",
   "metadata": {},
   "source": [
    "Running large calculations on CPU can be slow. When properly configured, TensorFlow can use accelerator hardware like GPUs to execute operations very quickly."
   ]
  },
  {
   "cell_type": "code",
   "execution_count": 2,
   "metadata": {},
   "outputs": [
    {
     "name": "stdout",
     "output_type": "stream",
     "text": [
      "TensorFlow **IS NOT** using the GPU\n",
      "Available devices:\n",
      "[PhysicalDevice(name='/physical_device:CPU:0', device_type='CPU')]\n"
     ]
    }
   ],
   "source": [
    "if tf.config.list_physical_devices('GPU'):\n",
    "    print(\"TensorFlow **IS** using the GPU\")\n",
    "else:\n",
    "    print(\"TensorFlow **IS NOT** using the GPU\")\n",
    "    print(\"Available devices:\")\n",
    "    print(tf.config.list_physical_devices())"
   ]
  },
  {
   "attachments": {},
   "cell_type": "markdown",
   "metadata": {},
   "source": [
    "# Variables\n",
    "Normal tf.Tensor objects are immutable. To store model weights (or other mutable state) in TensorFlow use a tf.Variable.\n",
    "tf.Variable objects store mutable tf.Tensor values accessed via the read_value and assign methods. The assign method also allows you to change the value of a tf.Variable."
   ]
  },
  {
   "cell_type": "code",
   "execution_count": 18,
   "metadata": {},
   "outputs": [
    {
     "name": "stdout",
     "output_type": "stream",
     "text": [
      "<tf.Variable 'Variable:0' shape=(2, 3) dtype=float32, numpy=\n",
      "array([[1., 2., 3.],\n",
      "       [4., 5., 6.]], dtype=float32)>\n"
     ]
    }
   ],
   "source": [
    "var = tf.Variable([[1., 2., 3.,], [4., 5., 6.,]])\n",
    "print(var)"
   ]
  },
  {
   "cell_type": "code",
   "execution_count": 21,
   "metadata": {},
   "outputs": [
    {
     "name": "stdout",
     "output_type": "stream",
     "text": [
      "<tf.Variable 'UnreadVariable' shape=(2, 3) dtype=float32, numpy=\n",
      "array([[ 8., 16., 24.],\n",
      "       [32., 40., 48.]], dtype=float32)>\n",
      "<tf.Variable 'UnreadVariable' shape=(2, 3) dtype=float32, numpy=\n",
      "array([[ 9., 17., 25.],\n",
      "       [33., 41., 49.]], dtype=float32)>\n",
      "<tf.Variable 'UnreadVariable' shape=(2, 3) dtype=float32, numpy=\n",
      "array([[ 9., 42., 25.],\n",
      "       [33., 41., 49.]], dtype=float32)>\n"
     ]
    }
   ],
   "source": [
    "print(var.assign(2 * var))\n",
    "print(var.assign_add([[1., 1., 1.,], [1., 1., 1.,]]))\n",
    "print(var[0, 1].assign(42))"
   ]
  },
  {
   "attachments": {},
   "cell_type": "markdown",
   "metadata": {},
   "source": [
    "# Automatic differentiation\n",
    "TensorFlow can automatically compute the derivative of a computation with respect to its input variables. This is useful for implementing machine learning algorithms such as gradient descent and for automatically producing gradients of the loss with respect to each model parameter.\n",
    "**Gradient descent** and related algorithms are a cornerstone of modern machine learning. TensorFlow provides tf.GradientTape, a feature for automatically computing the gradient of a computation with respect to its input variables."
   ]
  },
  {
   "cell_type": "code",
   "execution_count": 25,
   "metadata": {},
   "outputs": [],
   "source": [
    "x = tf.Variable(3.0)\n",
    "\n",
    "def f(x):\n",
    "    return x**2 + 10*x + 3"
   ]
  },
  {
   "cell_type": "code",
   "execution_count": 26,
   "metadata": {},
   "outputs": [
    {
     "data": {
      "text/plain": [
       "<tf.Tensor: shape=(), dtype=float32, numpy=42.0>"
      ]
     },
     "execution_count": 26,
     "metadata": {},
     "output_type": "execute_result"
    }
   ],
   "source": [
    "f(x)"
   ]
  },
  {
   "cell_type": "code",
   "execution_count": 28,
   "metadata": {},
   "outputs": [
    {
     "name": "stdout",
     "output_type": "stream",
     "text": [
      "tf.Tensor(16.0, shape=(), dtype=float32)\n"
     ]
    }
   ],
   "source": [
    "with tf.GradientTape() as tape:\n",
    "    y = f(x)\n",
    "\n",
    "dy_dx = tape.gradient(y, x) # computes the derivative of y with respect to x at x=3\n",
    "print(dy_dx)"
   ]
  },
  {
   "attachments": {},
   "cell_type": "markdown",
   "metadata": {},
   "source": [
    "# Graphs and tf.functions\n",
    "While you can use TensorFlow interactively like any Python library, TensorFlow also provides tools for:\n",
    "\n",
    "* Performance optimization: to speed up training and inference.\n",
    "* Export: so you can save your model when it's done training.\n",
    "\n",
    "These require that you use tf.function to separate your pure-TensorFlow code from Python."
   ]
  },
  {
   "cell_type": "code",
   "execution_count": 29,
   "metadata": {},
   "outputs": [],
   "source": [
    "@tf.function\n",
    "def f(x):\n",
    "    print(\"Tracing f\")\n",
    "    return tf.reduce_sum(x)"
   ]
  },
  {
   "attachments": {},
   "cell_type": "markdown",
   "metadata": {},
   "source": [
    "The first time you run the tf.function, although it executes in Python, it captures a complete, **optimized graph** representing the TensorFlow computations done within the function."
   ]
  },
  {
   "cell_type": "code",
   "execution_count": 30,
   "metadata": {},
   "outputs": [
    {
     "name": "stdout",
     "output_type": "stream",
     "text": [
      "Tracing f\n",
      "tf.Tensor(6, shape=(), dtype=int32)\n"
     ]
    }
   ],
   "source": [
    "x = tf.constant([1, 2, 3])\n",
    "print(f(x))"
   ]
  },
  {
   "attachments": {},
   "cell_type": "markdown",
   "metadata": {},
   "source": [
    "On subsequent calls TensorFlow **only executes the optimized graph**, skipping any non-TensorFlow steps. Below, note that my_func doesn't print tracing since print is a Python function, not a TensorFlow function."
   ]
  },
  {
   "cell_type": "code",
   "execution_count": 31,
   "metadata": {},
   "outputs": [
    {
     "name": "stdout",
     "output_type": "stream",
     "text": [
      "tf.Tensor(6, shape=(), dtype=int32)\n"
     ]
    }
   ],
   "source": [
    "x = tf.constant([1, 2, 3])\n",
    "print(f(x))"
   ]
  },
  {
   "attachments": {},
   "cell_type": "markdown",
   "metadata": {},
   "source": [
    "A graph may not be reusable for inputs with a different signature (shape and dtype), so a new graph is generated instead:"
   ]
  },
  {
   "cell_type": "code",
   "execution_count": 32,
   "metadata": {},
   "outputs": [
    {
     "name": "stdout",
     "output_type": "stream",
     "text": [
      "Tracing f\n",
      "tf.Tensor(21.0, shape=(), dtype=float32)\n"
     ]
    }
   ],
   "source": [
    "x = tf.constant([[1, 2, 3], [4, 5, 6]], dtype=tf.float32)\n",
    "print(f(x))"
   ]
  },
  {
   "attachments": {},
   "cell_type": "markdown",
   "metadata": {},
   "source": [
    "These captured graphs provide two benefits:\n",
    "\n",
    "* In many cases they provide a significant speedup in execution (though not this trivial example).\n",
    "* You can export these graphs, using tf.saved_model, to run on other systems like a server or a mobile device, no Python installation required."
   ]
  },
  {
   "attachments": {},
   "cell_type": "markdown",
   "metadata": {},
   "source": [
    "# Modules, layers, and models\n",
    "TensorFlow provides a number of high-level APIs for building models and layers. These APIs are built on top of **tf.Module**, which provides a way to organize variables and other objects into a single unit.\n",
    "tf.Module is a class for managing your tf.Variable objects, and the tf.function objects that operate on them. \n",
    "\n",
    "The tf.Module class is necessary to support two significant features:\n",
    "1. You can **save and restore** the values of your variables using `tf.train.Checkpoint`. This is useful during training as it is quick to save and restore a model's state.\n",
    "2. You can **import and export** the `tf.Variable` values and the tf.function graphs using `tf.saved_model`. \n",
    "This allows you to run your model independently of the Python program that created it.\n",
    "\n",
    "Here is a complete example exporting a simple tf.Module object:"
   ]
  },
  {
   "cell_type": "code",
   "execution_count": 3,
   "metadata": {},
   "outputs": [],
   "source": [
    "class MyModule(tf.Module):\n",
    "    def __init__(self, value):\n",
    "        self.v = tf.Variable(value)\n",
    "    @tf.function\n",
    "    def multiply(self, x):\n",
    "        return self.v * x"
   ]
  },
  {
   "cell_type": "code",
   "execution_count": 4,
   "metadata": {},
   "outputs": [
    {
     "name": "stdout",
     "output_type": "stream",
     "text": [
      "tf.Tensor(12, shape=(), dtype=int32)\n",
      "tf.Tensor([12 16], shape=(2,), dtype=int32)\n"
     ]
    }
   ],
   "source": [
    "mod = MyModule(4)\n",
    "print(mod.multiply(tf.constant(3)))\n",
    "print(mod.multiply(tf.constant([3, 4])))"
   ]
  },
  {
   "attachments": {},
   "cell_type": "markdown",
   "metadata": {},
   "source": [
    "Save the module"
   ]
  },
  {
   "cell_type": "code",
   "execution_count": 5,
   "metadata": {},
   "outputs": [
    {
     "name": "stdout",
     "output_type": "stream",
     "text": [
      "INFO:tensorflow:Assets written to: ./saved/assets\n"
     ]
    }
   ],
   "source": [
    "save_path = './saved'\n",
    "tf.saved_model.save(mod, save_path)"
   ]
  },
  {
   "attachments": {},
   "cell_type": "markdown",
   "metadata": {},
   "source": [
    "The resulting SavedModel is independent of the code that created it. You can load a SavedModel from Python, other language bindings, or TensorFlow Serving. You can also convert it to run with TensorFlow Lite or TensorFlow JS."
   ]
  },
  {
   "cell_type": "code",
   "execution_count": 6,
   "metadata": {},
   "outputs": [
    {
     "name": "stdout",
     "output_type": "stream",
     "text": [
      "<tensorflow.python.saved_model.load.Loader._recreate_base_user_object.<locals>._UserObject object at 0x7feff066ea00>\n"
     ]
    }
   ],
   "source": [
    "reloaded = tf.saved_model.load(save_path)\n",
    "print(reloaded)"
   ]
  },
  {
   "cell_type": "code",
   "execution_count": 7,
   "metadata": {},
   "outputs": [
    {
     "data": {
      "text/plain": [
       "<tf.Tensor: shape=(2,), dtype=int32, numpy=array([12, 16], dtype=int32)>"
      ]
     },
     "execution_count": 7,
     "metadata": {},
     "output_type": "execute_result"
    }
   ],
   "source": [
    "reloaded.multiply(tf.constant([3, 4]))"
   ]
  },
  {
   "attachments": {},
   "cell_type": "markdown",
   "metadata": {},
   "source": [
    "The `tf.keras.layers.Layer` and `tf.keras.Model` classes build on tf.Module providing additional functionality and convenience methods for building, training, and saving models. Some of these are demonstrated in the next section."
   ]
  },
  {
   "attachments": {},
   "cell_type": "markdown",
   "metadata": {},
   "source": [
    "# Training loops\n",
    "Now put this all together to build a basic model and train it from scratch.\n",
    "\n",
    "First, create some example data. This generates a cloud of points that loosely follows a quadratic curve:"
   ]
  },
  {
   "cell_type": "code",
   "execution_count": 68,
   "metadata": {},
   "outputs": [],
   "source": [
    "import matplotlib\n",
    "from matplotlib import pyplot as plt\n",
    "\n",
    "matplotlib.rcParams['figure.figsize'] = (6, 4)"
   ]
  },
  {
   "cell_type": "code",
   "execution_count": 70,
   "metadata": {},
   "outputs": [
    {
     "data": {
      "text/plain": [
       "<matplotlib.legend.Legend at 0x7ff44c7e7070>"
      ]
     },
     "execution_count": 70,
     "metadata": {},
     "output_type": "execute_result"
    },
    {
     "data": {
      "image/png": "[encoded data removed]",
      "text/plain": [
       "<Figure size 600x400 with 1 Axes>"
      ]
     },
     "metadata": {},
     "output_type": "display_data"
    }
   ],
   "source": [
    "x = tf.linspace(-2, 2, 201)\n",
    "x = tf.cast(x, tf.float32)\n",
    "\n",
    "def f(x):\n",
    "    y = x**2 + 2*x + 1\n",
    "    return y\n",
    "\n",
    "y = f(x) + tf.random.normal(shape=[201])\n",
    "\n",
    "plt.plot(x.numpy(), y.numpy(), 'b.', label='data')\n",
    "plt.plot(x.numpy(), f(x).numpy(), 'r-', label='ground truth')\n",
    "plt.legend()"
   ]
  },
  {
   "attachments": {},
   "cell_type": "markdown",
   "metadata": {},
   "source": [
    "Create a quadratic model with randomly initialized weights and a bias:\n",
    "\n"
   ]
  },
  {
   "cell_type": "code",
   "execution_count": 64,
   "metadata": {},
   "outputs": [],
   "source": [
    "class Model(tf.Module):\n",
    "    def __init__(self):\n",
    "        rand_init = tf.random.uniform(shape=[3], minval=0., maxval=5., seed=22)\n",
    "        self.w_q = tf.Variable(rand_init[0], name='w_q')\n",
    "        self.w_l = tf.Variable(rand_init[1], name='w_l')\n",
    "        self.b = tf.Variable(rand_init[2], name='b')\n",
    "\n",
    "    @tf.function\n",
    "    def __call__(self, x):\n",
    "        return self.w_q * x**2 + self.w_l * x + self.b"
   ]
  },
  {
   "attachments": {},
   "cell_type": "markdown",
   "metadata": {},
   "source": [
    "First, observe your model's performance before training:\n",
    "\n"
   ]
  },
  {
   "cell_type": "code",
   "execution_count": 65,
   "metadata": {},
   "outputs": [],
   "source": [
    "quad_model = Model()"
   ]
  },
  {
   "cell_type": "code",
   "execution_count": 66,
   "metadata": {},
   "outputs": [],
   "source": [
    "def plot_preds(x, y, f, model, title):\n",
    "    plt.figure()\n",
    "    plt.plot(x.numpy(), y.numpy(), 'b.', label='data')\n",
    "    plt.plot(x.numpy(), f(x).numpy(), 'r-', label='ground truth')\n",
    "    plt.plot(x.numpy(), model(x).numpy(), 'g-', label='predictions')\n",
    "    plt.legend()\n",
    "    plt.title(title)"
   ]
  },
  {
   "cell_type": "code",
   "execution_count": 69,
   "metadata": {},
   "outputs": [
    {
     "data": {
      "image/png": "[encoded data removed]",
      "text/plain": [
       "<Figure size 600x400 with 1 Axes>"
      ]
     },
     "metadata": {},
     "output_type": "display_data"
    }
   ],
   "source": [
    "plot_preds(x, y, f, quad_model, 'Initial predictions')"
   ]
  },
  {
   "attachments": {},
   "cell_type": "markdown",
   "metadata": {},
   "source": [
    "Now, define a loss for your model:\n",
    "\n",
    "Given that this model is intended to predict continuous values, the mean squared error (MSE) is a good choice for the loss function. Given a vector of predictions $\\hat{y}$ and a vector of true targets $y$, the MSE is defined as the mean of the squared differences between the predicted values and the ground truth.\n",
    "$\n",
    "\\begin{align}\n",
    "\\text{MSE} = \\frac{1}{n}\\sum_{i=1}^n(\\hat{y}_i - y_i)^2\n",
    "\\end{align}\n",
    "$"
   ]
  },
  {
   "cell_type": "code",
   "execution_count": 76,
   "metadata": {},
   "outputs": [],
   "source": [
    "def mse_loss(y, y_pred):\n",
    "    return tf.reduce_mean(tf.square(y - y_pred))"
   ]
  },
  {
   "attachments": {},
   "cell_type": "markdown",
   "metadata": {},
   "source": [
    "Write a basic training loop for the model. The loop will make use of the MSE loss function and its gradients with respect to the input in order to **iteratively update** the model's parameters. Using mini-batches for training provides both memory efficienciy and faster convergence. The `tf.data.Dataset` API has useful functions for batching and shuffling."
   ]
  },
  {
   "cell_type": "code",
   "execution_count": 71,
   "metadata": {},
   "outputs": [],
   "source": [
    "# x = tf.linspace(-2, 2, 201)\n",
    "# y = f(x) + tf.random.normal(shape=[201])\n",
    "batch_size = 32\n",
    "dataset = tf.data.Dataset.from_tensor_slices((x, y)) # create a dataset from a tensor made of x and y\n",
    "dataset = dataset.shuffle(buffer_size=x.shape[0]).batch(batch_size) # shuffle the dataset and create batches of size 32"
   ]
  },
  {
   "cell_type": "code",
   "execution_count": 77,
   "metadata": {},
   "outputs": [
    {
     "name": "stdout",
     "output_type": "stream",
     "text": [
      "Epoch  0: loss=14.8063\n",
      "Epoch 10: loss=2.4799\n",
      "Epoch 20: loss=1.5264\n",
      "Epoch 30: loss=1.2247\n",
      "Epoch 40: loss=1.1222\n",
      "Epoch 50: loss=1.0871\n",
      "Epoch 60: loss=1.0730\n",
      "Epoch 70: loss=1.0686\n",
      "Epoch 80: loss=1.0672\n",
      "Epoch 90: loss=1.0666\n",
      "Final loss: 1.0675\n"
     ]
    },
    {
     "data": {
      "text/plain": [
       "Text(0.5, 1.0, 'MSE Loss vs Training Epochs')"
      ]
     },
     "execution_count": 77,
     "metadata": {},
     "output_type": "execute_result"
    },
    {
     "data": {
      "image/png": "[encoded data removed]",
      "text/plain": [
       "<Figure size 600x400 with 1 Axes>"
      ]
     },
     "metadata": {},
     "output_type": "display_data"
    }
   ],
   "source": [
    "# Set training parameters\n",
    "epochs = 100\n",
    "learning_rate = 0.01\n",
    "losses = []\n",
    "\n",
    "# Format the training loop\n",
    "for epoch in range(epochs):\n",
    "    for x_batch, y_batch in dataset:\n",
    "        with tf.GradientTape() as tape:\n",
    "            y_pred = quad_model(x_batch)\n",
    "            loss = mse_loss(y_batch, y_pred)\n",
    "        grads = tape.gradient(loss, quad_model.variables) # compute the gradients of the loss with respect to the model variables\n",
    "        for var, grad in zip(quad_model.variables, grads):\n",
    "            var.assign_sub(learning_rate * grad)\n",
    "    # Keep track of the loss for each epoch\n",
    "    loss = mse_loss(y, quad_model(x))\n",
    "    losses.append(loss)\n",
    "    # Print the loss every 10 epochs\n",
    "    if epoch % 10 == 0:\n",
    "        print('Epoch {0:2d}: loss={1:.4f}'.format(epoch, loss))\n",
    "\n",
    "# plot the model results\n",
    "print('Final loss: {0:.4f}'.format(loss))\n",
    "plt.plot(range(epochs), losses, 'r-')\n",
    "plt.xlabel('Epoch')\n",
    "plt.ylabel('MSE loss')\n",
    "plt.title('MSE Loss vs Training Epochs')"
   ]
  },
  {
   "cell_type": "code",
   "execution_count": 78,
   "metadata": {},
   "outputs": [
    {
     "data": {
      "image/png": "[encoded data removed]",
      "text/plain": [
       "<Figure size 600x400 with 1 Axes>"
      ]
     },
     "metadata": {},
     "output_type": "display_data"
    }
   ],
   "source": [
    "plot_preds(x, y, f, quad_model, 'Final predictions')"
   ]
  },
  {
   "attachments": {},
   "cell_type": "markdown",
   "metadata": {},
   "source": [
    "That's working, but remember that implementations of common training utilities are available in the tf.keras module. So, consider using those before writing your own. To start with, the `Model.compile` and `Model.fit` methods implement a training loop for you.\n",
    "\n",
    "Begin by creating a **Sequential Model** in Keras using `tf.keras.Sequential`. One of the simplest Keras layers is the dense layer, which can be instantiated with `tf.keras.layers.Dense`. The dense layer is able to learn multidimensional linear relationships of the form $Y = XW + \\vec{b}$. The dense layer's output is given by the following equation: \n",
    "$\n",
    "\\begin{align}\n",
    "\\text{output} = \\text{activation}(\\text{input} \\cdot \\text{kernel} + \\text{bias})\n",
    "\\end{align}\n",
    "$\n",
    "In order to learn a nonlinear equation of the form $y = w_1x^2 + w_2x + b$,  the dense layer's input should be a data matrix with $x^2$ and $x$ as features, stacked one upon the other. The lambda layer, `tf.keras.layers.Lambda`, can be used to perform this stacking transformation."
   ]
  },
  {
   "cell_type": "code",
   "execution_count": 85,
   "metadata": {},
   "outputs": [],
   "source": [
    "new_model = tf.keras.Sequential([\n",
    "    tf.keras.layers.Lambda(lambda x: tf.stack([x, x**2], axis=1)),\n",
    "    tf.keras.layers.Dense(units=1, kernel_initializer=tf.random.normal)\n",
    "])"
   ]
  },
  {
   "cell_type": "code",
   "execution_count": 86,
   "metadata": {},
   "outputs": [
    {
     "name": "stdout",
     "output_type": "stream",
     "text": [
      "Epoch 1/100\n",
      "7/7 - 0s - loss: 5.6817 - 246ms/epoch - 35ms/step\n",
      "Epoch 2/100\n",
      "7/7 - 0s - loss: 2.8049 - 5ms/epoch - 738us/step\n",
      "Epoch 3/100\n",
      "7/7 - 0s - loss: 1.8333 - 5ms/epoch - 684us/step\n",
      "Epoch 4/100\n",
      "7/7 - 0s - loss: 1.4456 - 8ms/epoch - 1ms/step\n",
      "Epoch 5/100\n",
      "7/7 - 0s - loss: 1.2729 - 10ms/epoch - 1ms/step\n",
      "Epoch 6/100\n",
      "7/7 - 0s - loss: 1.2048 - 12ms/epoch - 2ms/step\n",
      "Epoch 7/100\n",
      "7/7 - 0s - loss: 1.1632 - 12ms/epoch - 2ms/step\n",
      "Epoch 8/100\n",
      "7/7 - 0s - loss: 1.1358 - 8ms/epoch - 1ms/step\n",
      "Epoch 9/100\n",
      "7/7 - 0s - loss: 1.1191 - 10ms/epoch - 1ms/step\n",
      "Epoch 10/100\n",
      "7/7 - 0s - loss: 1.1074 - 15ms/epoch - 2ms/step\n",
      "Epoch 11/100\n",
      "7/7 - 0s - loss: 1.0993 - 14ms/epoch - 2ms/step\n",
      "Epoch 12/100\n",
      "7/7 - 0s - loss: 1.0943 - 15ms/epoch - 2ms/step\n",
      "Epoch 13/100\n",
      "7/7 - 0s - loss: 1.0874 - 26ms/epoch - 4ms/step\n",
      "Epoch 14/100\n",
      "7/7 - 0s - loss: 1.0886 - 18ms/epoch - 3ms/step\n",
      "Epoch 15/100\n",
      "7/7 - 0s - loss: 1.0838 - 12ms/epoch - 2ms/step\n",
      "Epoch 16/100\n",
      "7/7 - 0s - loss: 1.0794 - 21ms/epoch - 3ms/step\n",
      "Epoch 17/100\n",
      "7/7 - 0s - loss: 1.0782 - 18ms/epoch - 3ms/step\n",
      "Epoch 18/100\n",
      "7/7 - 0s - loss: 1.0767 - 25ms/epoch - 4ms/step\n",
      "Epoch 19/100\n",
      "7/7 - 0s - loss: 1.0769 - 23ms/epoch - 3ms/step\n",
      "Epoch 20/100\n",
      "7/7 - 0s - loss: 1.0793 - 26ms/epoch - 4ms/step\n",
      "Epoch 21/100\n",
      "7/7 - 0s - loss: 1.0770 - 19ms/epoch - 3ms/step\n",
      "Epoch 22/100\n",
      "7/7 - 0s - loss: 1.0744 - 18ms/epoch - 3ms/step\n",
      "Epoch 23/100\n",
      "7/7 - 0s - loss: 1.0741 - 32ms/epoch - 5ms/step\n",
      "Epoch 24/100\n",
      "7/7 - 0s - loss: 1.0742 - 15ms/epoch - 2ms/step\n",
      "Epoch 25/100\n",
      "7/7 - 0s - loss: 1.0800 - 21ms/epoch - 3ms/step\n",
      "Epoch 26/100\n",
      "7/7 - 0s - loss: 1.0742 - 13ms/epoch - 2ms/step\n",
      "Epoch 27/100\n",
      "7/7 - 0s - loss: 1.0701 - 19ms/epoch - 3ms/step\n",
      "Epoch 28/100\n",
      "7/7 - 0s - loss: 1.0706 - 14ms/epoch - 2ms/step\n",
      "Epoch 29/100\n",
      "7/7 - 0s - loss: 1.0749 - 20ms/epoch - 3ms/step\n",
      "Epoch 30/100\n",
      "7/7 - 0s - loss: 1.0725 - 21ms/epoch - 3ms/step\n",
      "Epoch 31/100\n",
      "7/7 - 0s - loss: 1.0708 - 24ms/epoch - 3ms/step\n",
      "Epoch 32/100\n",
      "7/7 - 0s - loss: 1.0715 - 9ms/epoch - 1ms/step\n",
      "Epoch 33/100\n",
      "7/7 - 0s - loss: 1.0696 - 18ms/epoch - 3ms/step\n",
      "Epoch 34/100\n",
      "7/7 - 0s - loss: 1.0699 - 13ms/epoch - 2ms/step\n",
      "Epoch 35/100\n",
      "7/7 - 0s - loss: 1.0687 - 22ms/epoch - 3ms/step\n",
      "Epoch 36/100\n",
      "7/7 - 0s - loss: 1.0694 - 20ms/epoch - 3ms/step\n",
      "Epoch 37/100\n",
      "7/7 - 0s - loss: 1.0703 - 17ms/epoch - 2ms/step\n",
      "Epoch 38/100\n",
      "7/7 - 0s - loss: 1.0749 - 16ms/epoch - 2ms/step\n",
      "Epoch 39/100\n",
      "7/7 - 0s - loss: 1.0726 - 26ms/epoch - 4ms/step\n",
      "Epoch 40/100\n",
      "7/7 - 0s - loss: 1.0711 - 14ms/epoch - 2ms/step\n",
      "Epoch 41/100\n",
      "7/7 - 0s - loss: 1.0723 - 20ms/epoch - 3ms/step\n",
      "Epoch 42/100\n",
      "7/7 - 0s - loss: 1.0696 - 17ms/epoch - 2ms/step\n",
      "Epoch 43/100\n",
      "7/7 - 0s - loss: 1.0725 - 22ms/epoch - 3ms/step\n",
      "Epoch 44/100\n",
      "7/7 - 0s - loss: 1.0697 - 13ms/epoch - 2ms/step\n",
      "Epoch 45/100\n",
      "7/7 - 0s - loss: 1.0692 - 23ms/epoch - 3ms/step\n",
      "Epoch 46/100\n",
      "7/7 - 0s - loss: 1.0716 - 25ms/epoch - 4ms/step\n",
      "Epoch 47/100\n",
      "7/7 - 0s - loss: 1.0730 - 17ms/epoch - 2ms/step\n",
      "Epoch 48/100\n",
      "7/7 - 0s - loss: 1.0722 - 15ms/epoch - 2ms/step\n",
      "Epoch 49/100\n",
      "7/7 - 0s - loss: 1.0708 - 23ms/epoch - 3ms/step\n",
      "Epoch 50/100\n",
      "7/7 - 0s - loss: 1.0725 - 15ms/epoch - 2ms/step\n",
      "Epoch 51/100\n",
      "7/7 - 0s - loss: 1.0715 - 15ms/epoch - 2ms/step\n",
      "Epoch 52/100\n",
      "7/7 - 0s - loss: 1.0704 - 18ms/epoch - 3ms/step\n",
      "Epoch 53/100\n",
      "7/7 - 0s - loss: 1.0758 - 22ms/epoch - 3ms/step\n",
      "Epoch 54/100\n",
      "7/7 - 0s - loss: 1.0725 - 13ms/epoch - 2ms/step\n",
      "Epoch 55/100\n",
      "7/7 - 0s - loss: 1.0685 - 16ms/epoch - 2ms/step\n",
      "Epoch 56/100\n",
      "7/7 - 0s - loss: 1.0689 - 16ms/epoch - 2ms/step\n",
      "Epoch 57/100\n",
      "7/7 - 0s - loss: 1.0686 - 20ms/epoch - 3ms/step\n",
      "Epoch 58/100\n",
      "7/7 - 0s - loss: 1.0733 - 6ms/epoch - 850us/step\n",
      "Epoch 59/100\n",
      "7/7 - 0s - loss: 1.0709 - 5ms/epoch - 778us/step\n",
      "Epoch 60/100\n",
      "7/7 - 0s - loss: 1.0685 - 13ms/epoch - 2ms/step\n",
      "Epoch 61/100\n",
      "7/7 - 0s - loss: 1.0723 - 18ms/epoch - 3ms/step\n",
      "Epoch 62/100\n",
      "7/7 - 0s - loss: 1.0725 - 11ms/epoch - 2ms/step\n",
      "Epoch 63/100\n",
      "7/7 - 0s - loss: 1.0709 - 8ms/epoch - 1ms/step\n",
      "Epoch 64/100\n",
      "7/7 - 0s - loss: 1.0701 - 16ms/epoch - 2ms/step\n",
      "Epoch 65/100\n",
      "7/7 - 0s - loss: 1.0688 - 10ms/epoch - 1ms/step\n",
      "Epoch 66/100\n",
      "7/7 - 0s - loss: 1.0691 - 17ms/epoch - 2ms/step\n",
      "Epoch 67/100\n",
      "7/7 - 0s - loss: 1.0731 - 9ms/epoch - 1ms/step\n",
      "Epoch 68/100\n",
      "7/7 - 0s - loss: 1.0688 - 18ms/epoch - 3ms/step\n",
      "Epoch 69/100\n",
      "7/7 - 0s - loss: 1.0690 - 30ms/epoch - 4ms/step\n",
      "Epoch 70/100\n",
      "7/7 - 0s - loss: 1.0689 - 6ms/epoch - 896us/step\n",
      "Epoch 71/100\n",
      "7/7 - 0s - loss: 1.0714 - 25ms/epoch - 4ms/step\n",
      "Epoch 72/100\n",
      "7/7 - 0s - loss: 1.0696 - 27ms/epoch - 4ms/step\n",
      "Epoch 73/100\n",
      "7/7 - 0s - loss: 1.0683 - 7ms/epoch - 1ms/step\n",
      "Epoch 74/100\n",
      "7/7 - 0s - loss: 1.0691 - 26ms/epoch - 4ms/step\n",
      "Epoch 75/100\n",
      "7/7 - 0s - loss: 1.0688 - 18ms/epoch - 3ms/step\n",
      "Epoch 76/100\n",
      "7/7 - 0s - loss: 1.0702 - 7ms/epoch - 969us/step\n",
      "Epoch 77/100\n",
      "7/7 - 0s - loss: 1.0685 - 7ms/epoch - 989us/step\n",
      "Epoch 78/100\n",
      "7/7 - 0s - loss: 1.0689 - 17ms/epoch - 2ms/step\n",
      "Epoch 79/100\n",
      "7/7 - 0s - loss: 1.0680 - 20ms/epoch - 3ms/step\n",
      "Epoch 80/100\n",
      "7/7 - 0s - loss: 1.0722 - 10ms/epoch - 1ms/step\n",
      "Epoch 81/100\n",
      "7/7 - 0s - loss: 1.0700 - 25ms/epoch - 4ms/step\n",
      "Epoch 82/100\n",
      "7/7 - 0s - loss: 1.0703 - 18ms/epoch - 3ms/step\n",
      "Epoch 83/100\n",
      "7/7 - 0s - loss: 1.0695 - 16ms/epoch - 2ms/step\n",
      "Epoch 84/100\n",
      "7/7 - 0s - loss: 1.0694 - 16ms/epoch - 2ms/step\n",
      "Epoch 85/100\n",
      "7/7 - 0s - loss: 1.0681 - 18ms/epoch - 3ms/step\n",
      "Epoch 86/100\n",
      "7/7 - 0s - loss: 1.0699 - 14ms/epoch - 2ms/step\n",
      "Epoch 87/100\n",
      "7/7 - 0s - loss: 1.0692 - 6ms/epoch - 883us/step\n",
      "Epoch 88/100\n",
      "7/7 - 0s - loss: 1.0683 - 32ms/epoch - 5ms/step\n",
      "Epoch 89/100\n",
      "7/7 - 0s - loss: 1.0681 - 7ms/epoch - 1ms/step\n",
      "Epoch 90/100\n",
      "7/7 - 0s - loss: 1.0714 - 20ms/epoch - 3ms/step\n",
      "Epoch 91/100\n",
      "7/7 - 0s - loss: 1.0689 - 29ms/epoch - 4ms/step\n",
      "Epoch 92/100\n",
      "7/7 - 0s - loss: 1.0687 - 15ms/epoch - 2ms/step\n",
      "Epoch 93/100\n",
      "7/7 - 0s - loss: 1.0698 - 30ms/epoch - 4ms/step\n",
      "Epoch 94/100\n",
      "7/7 - 0s - loss: 1.0686 - 8ms/epoch - 1ms/step\n",
      "Epoch 95/100\n",
      "7/7 - 0s - loss: 1.0703 - 19ms/epoch - 3ms/step\n",
      "Epoch 96/100\n",
      "7/7 - 0s - loss: 1.0743 - 6ms/epoch - 826us/step\n",
      "Epoch 97/100\n",
      "7/7 - 0s - loss: 1.0725 - 18ms/epoch - 3ms/step\n",
      "Epoch 98/100\n",
      "7/7 - 0s - loss: 1.0709 - 8ms/epoch - 1ms/step\n",
      "Epoch 99/100\n",
      "7/7 - 0s - loss: 1.0680 - 24ms/epoch - 3ms/step\n",
      "Epoch 100/100\n",
      "7/7 - 0s - loss: 1.0697 - 8ms/epoch - 1ms/step\n"
     ]
    },
    {
     "name": "stderr",
     "output_type": "stream",
     "text": [
      "WARNING:absl:Found untraced functions such as _update_step_xla while saving (showing 1 of 1). These functions will not be directly callable after loading.\n"
     ]
    },
    {
     "name": "stdout",
     "output_type": "stream",
     "text": [
      "INFO:tensorflow:Assets written to: ./my_new_model/assets\n"
     ]
    },
    {
     "name": "stderr",
     "output_type": "stream",
     "text": [
      "INFO:tensorflow:Assets written to: ./my_new_model/assets\n"
     ]
    }
   ],
   "source": [
    "new_model.compile(\n",
    "    loss=tf.keras.losses.MSE,\n",
    "    optimizer=tf.keras.optimizers.SGD(learning_rate=0.01)\n",
    ")\n",
    "\n",
    "history = new_model.fit(x, y,\n",
    "    batch_size=32,\n",
    "    epochs=100,\n",
    "    verbose=2\n",
    ")\n",
    "\n",
    "new_model.save('./my_new_model')"
   ]
  },
  {
   "attachments": {},
   "cell_type": "markdown",
   "metadata": {},
   "source": [
    "Observe your Keras model's performance after training:"
   ]
  },
  {
   "cell_type": "code",
   "execution_count": 87,
   "metadata": {},
   "outputs": [
    {
     "data": {
      "text/plain": [
       "Text(0.5, 1.0, 'MSE Loss vs Training Epochs')"
      ]
     },
     "execution_count": 87,
     "metadata": {},
     "output_type": "execute_result"
    },
    {
     "data": {
      "image/png": "[encoded data removed]",
      "text/plain": [
       "<Figure size 600x400 with 1 Axes>"
      ]
     },
     "metadata": {},
     "output_type": "display_data"
    }
   ],
   "source": [
    "plt.plot(history.history['loss'], 'r-')\n",
    "plt.xlabel('Epoch')\n",
    "plt.ylim([0, max(plt.ylim())])\n",
    "plt.ylabel('MSE loss')\n",
    "plt.title('MSE Loss vs Training Epochs')"
   ]
  },
  {
   "cell_type": "code",
   "execution_count": 88,
   "metadata": {},
   "outputs": [
    {
     "data": {
      "image/png": "[encoded data removed]",
      "text/plain": [
       "<Figure size 600x400 with 1 Axes>"
      ]
     },
     "metadata": {},
     "output_type": "display_data"
    }
   ],
   "source": [
    "plot_preds(x, y, f, new_model, 'After training: Keras model')"
   ]
  }
 ],
 "metadata": {
  "kernelspec": {
   "display_name": ".venv",
   "language": "python",
   "name": "python3"
  },
  "language_info": {
   "codemirror_mode": {
    "name": "ipython",
    "version": 3
   },
   "file_extension": ".py",
   "mimetype": "text/x-python",
   "name": "python",
   "nbconvert_exporter": "python",
   "pygments_lexer": "ipython3",
   "version": "3.8.10"
  },
  "orig_nbformat": 4,
  "vscode": {
   "interpreter": {
    "hash": "50e4fe1f1d849b8fcbc4f60b2bfbac82cc34a3e1b2061ee10d1bd347a6fe3adf"
   }
  }
 },
 "nbformat": 4,
 "nbformat_minor": 2
}
